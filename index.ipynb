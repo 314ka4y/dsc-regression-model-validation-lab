{
 "cells": [
  {
   "cell_type": "markdown",
   "metadata": {},
   "source": [
    "# Regression Model Validation - Lab\n",
    "\n",
    "## Introduction\n",
    "\n",
    "In this lab, you'll be able to validate your Boston Housing data model using train-test split.\n",
    "\n",
    "\n",
    "## Objectives\n",
    "\n",
    "You will be able to:\n",
    "\n",
    "- Compare training and testing errors to determine if model is over or underfitting\n"
   ]
  },
  {
   "cell_type": "markdown",
   "metadata": {},
   "source": [
    "## Let's use our Boston Housing Data again!\n",
    "\n",
    "This time, let's only include the variables that were previously selected using recursive feature elimination. "
   ]
  },
  {
   "cell_type": "code",
   "execution_count": null,
   "metadata": {},
   "outputs": [],
   "source": [
    "import pandas as pd\n",
    "import numpy as np\n",
    "import matplotlib.pyplot as plt\n",
    "%matplotlib inline\n",
    "from sklearn.datasets import load_boston\n",
    "\n",
    "boston = load_boston()\n",
    "boston_features = pd.DataFrame(boston.data, columns=boston.feature_names)"
   ]
  },
  {
   "cell_type": "code",
   "execution_count": 1,
   "metadata": {},
   "outputs": [],
   "source": [
    "# __SOLUTION__ \n",
    "import pandas as pd\n",
    "import numpy as np\n",
    "import matplotlib.pyplot as plt\n",
    "%matplotlib inline\n",
    "from sklearn.datasets import load_boston\n",
    "\n",
    "boston = load_boston()\n",
    "boston_features = pd.DataFrame(boston.data, columns=boston.feature_names)"
   ]
  },
  {
   "cell_type": "markdown",
   "metadata": {},
   "source": [
    "Run the cell below to split the data into predictor and target variables. "
   ]
  },
  {
   "cell_type": "code",
   "execution_count": null,
   "metadata": {},
   "outputs": [],
   "source": [
    "X = boston_features[['CHAS', 'RM', 'DIS', 'B', 'LSTAT']]\n",
    "y = pd.DataFrame(boston.target, columns=['target'])"
   ]
  },
  {
   "cell_type": "code",
   "execution_count": 2,
   "metadata": {},
   "outputs": [],
   "source": [
    "# __SOLUTION__ \n",
    "X = boston_features[['CHAS', 'RM', 'DIS', 'B', 'LSTAT']]\n",
    "y = pd.DataFrame(boston.target, columns=['target'])"
   ]
  },
  {
   "cell_type": "markdown",
   "metadata": {},
   "source": [
    "### Perform a train-test split \n",
    "\n",
    "- Split the data into training and test sets \n",
    "- Use the default split size \n",
    "- Set the seed to 42 "
   ]
  },
  {
   "cell_type": "code",
   "execution_count": null,
   "metadata": {},
   "outputs": [],
   "source": [
    "# Import train_test_split\n",
    "\n",
    "\n",
    "# Split the data into training and test sets\n",
    "X_train, X_test, y_train, y_test = None\n",
    "\n",
    "# Print the dimensions of training and test split\n"
   ]
  },
  {
   "cell_type": "code",
   "execution_count": 3,
   "metadata": {},
   "outputs": [
    {
     "name": "stdout",
     "output_type": "stream",
     "text": [
      "379 127 379 127\n"
     ]
    }
   ],
   "source": [
    "# __SOLUTION__ \n",
    "# Import train_test_split\n",
    "from sklearn.model_selection import train_test_split\n",
    "\n",
    "# Split the data into training and test sets\n",
    "X_train, X_test, y_train, y_test = train_test_split(X, y, random_state=42)\n",
    "\n",
    "# Print the dimensions of training and test split\n",
    "print(len(X_train), len(X_test), len(y_train), len(y_test))"
   ]
  },
  {
   "cell_type": "markdown",
   "metadata": {},
   "source": [
    "We created a function that preprocesses the data for you. It takes the input training and test sets as the inputs and returns the preprocessed input training and test sets. "
   ]
  },
  {
   "cell_type": "code",
   "execution_count": null,
   "metadata": {},
   "outputs": [],
   "source": [
    "from sklearn.preprocessing import MinMaxScaler, StandardScaler, FunctionTransformer, OneHotEncoder\n",
    "\n",
    "# Preprocess input data\n",
    "def preprocess_data(input_train, input_test): \n",
    "    \n",
    "    # Instantiate a StandardScaler \n",
    "    standard_scaler = StandardScaler() \n",
    "    \n",
    "    # Instantiate a MinMaxScaler \n",
    "    min_max_scaler = MinMaxScaler() \n",
    "    \n",
    "    # Instantiate a custom transformer for log transformation  \n",
    "    log_transformer = FunctionTransformer(np.log, validate=True)\n",
    "    \n",
    "    # Columns to be log transformed  \n",
    "    log_columns = ['DIS', 'LSTAT']  \n",
    "    \n",
    "    # Log transform the training columns and convert them into a DataFrame  \n",
    "    log_train = pd.DataFrame(log_transformer.fit_transform(input_train[log_columns]), \n",
    "                             columns=['log_DIS', 'log_LSTAT']) \n",
    "    \n",
    "    # Log transform the test columns and convert them into a DataFrame  \n",
    "    log_test = pd.DataFrame(log_transformer.transform(input_test[log_columns]), \n",
    "                            columns=['log_DIS', 'log_LSTAT'])\n",
    "    \n",
    "    # Concatenate the log transform columns - training set \n",
    "    input_train_combined = pd.concat([input_train.reset_index(drop=True), log_train], axis=1) \n",
    "    \n",
    "    # Concatenate the log transform columns - test set  \n",
    "    input_test_combined = pd.concat([input_test.reset_index(drop=True), log_test], axis=1) \n",
    "    \n",
    "    # Apply MinMaxScaler to training columns \n",
    "    scaled_train_1 = pd.DataFrame(min_max_scaler.fit_transform(input_train_combined[['B', 'log_DIS']]), \n",
    "                                  columns=['scaled_B', 'scaled_DIS']) \n",
    "    \n",
    "    # Apply MinMaxScaler to test columns  \n",
    "    scaled_test_1 = pd.DataFrame(min_max_scaler.transform(input_test_combined[['B', 'log_DIS']]), \n",
    "                                 columns=['scaled_B', 'scaled_DIS']) \n",
    "    \n",
    "    # Apply StandardScaler to training columns \n",
    "    scaled_train_2 = pd.DataFrame(standard_scaler.fit_transform(input_train_combined[['log_LSTAT']]), \n",
    "                                  columns=['scaled_LSTAT']) \n",
    "    \n",
    "    # Apply StandardScaler to test columns \n",
    "    scaled_test_2 = pd.DataFrame(standard_scaler.transform(input_test_combined[['log_LSTAT']]), \n",
    "                                 columns=['scaled_LSTAT'])\n",
    "    \n",
    "    # Combine continuous and categorical feature DataFrames \n",
    "    input_train_processed = pd.concat([input_train_combined[['CHAS', 'RM']], scaled_train_1, scaled_train_2], axis=1) \n",
    "    input_test_processed = pd.concat([input_test_combined[['CHAS', 'RM']], scaled_test_1, scaled_test_2], axis=1)\n",
    "    \n",
    "    return input_train_processed, input_test_processed"
   ]
  },
  {
   "cell_type": "code",
   "execution_count": 4,
   "metadata": {},
   "outputs": [],
   "source": [
    "# __SOLUTION__ \n",
    "from sklearn.preprocessing import MinMaxScaler, StandardScaler, FunctionTransformer, OneHotEncoder\n",
    "\n",
    "# Preprocess input data\n",
    "def preprocess_data(input_train, input_test): \n",
    "    \n",
    "    # Instantiate a StandardScaler \n",
    "    standard_scaler = StandardScaler() \n",
    "    \n",
    "    # Instantiate a MinMaxScaler \n",
    "    min_max_scaler = MinMaxScaler() \n",
    "    \n",
    "    # Instantiate a custom transformer for log transformation  \n",
    "    log_transformer = FunctionTransformer(np.log, validate=True)\n",
    "    \n",
    "    # Columns to be log transformed  \n",
    "    log_columns = ['DIS', 'LSTAT']  \n",
    "    \n",
    "    # Log transform the training columns and convert them into a DataFrame  \n",
    "    log_train = pd.DataFrame(log_transformer.fit_transform(input_train[log_columns]), \n",
    "                             columns=['log_DIS', 'log_LSTAT']) \n",
    "    \n",
    "    # Log transform the test columns and convert them into a DataFrame  \n",
    "    log_test = pd.DataFrame(log_transformer.transform(input_test[log_columns]), \n",
    "                            columns=['log_DIS', 'log_LSTAT'])\n",
    "    \n",
    "    # Concatenate the log transform columns - training set \n",
    "    input_train_combined = pd.concat([input_train.reset_index(drop=True), log_train], axis=1) \n",
    "    \n",
    "    # Concatenate the log transform columns - test set  \n",
    "    input_test_combined = pd.concat([input_test.reset_index(drop=True), log_test], axis=1) \n",
    "    \n",
    "    # Apply MinMaxScaler to training columns \n",
    "    scaled_train_1 = pd.DataFrame(min_max_scaler.fit_transform(input_train_combined[['B', 'log_DIS']]), \n",
    "                                  columns=['scaled_B', 'scaled_DIS']) \n",
    "    \n",
    "    # Apply MinMaxScaler to test columns  \n",
    "    scaled_test_1 = pd.DataFrame(min_max_scaler.transform(input_test_combined[['B', 'log_DIS']]), \n",
    "                                 columns=['scaled_B', 'scaled_DIS']) \n",
    "    \n",
    "    # Apply StandardScaler to training columns \n",
    "    scaled_train_2 = pd.DataFrame(standard_scaler.fit_transform(input_train_combined[['log_LSTAT']]), \n",
    "                                  columns=['scaled_LSTAT']) \n",
    "    \n",
    "    # Apply StandardScaler to test columns \n",
    "    scaled_test_2 = pd.DataFrame(standard_scaler.transform(input_test_combined[['log_LSTAT']]), \n",
    "                                 columns=['scaled_LSTAT'])\n",
    "    \n",
    "    # Combine continuous and categorical feature DataFrames \n",
    "    input_train_processed = pd.concat([input_train_combined[['CHAS', 'RM']], scaled_train_1, scaled_train_2], axis=1) \n",
    "    input_test_processed = pd.concat([input_test_combined[['CHAS', 'RM']], scaled_test_1, scaled_test_2], axis=1)\n",
    "    \n",
    "    return input_train_processed, input_test_processed"
   ]
  },
  {
   "cell_type": "markdown",
   "metadata": {},
   "source": [
    "Use this function to proprocess your `X_train` and `X_test`. "
   ]
  },
  {
   "cell_type": "code",
   "execution_count": null,
   "metadata": {},
   "outputs": [],
   "source": [
    "X_train_processed, X_test_processed = None"
   ]
  },
  {
   "cell_type": "code",
   "execution_count": 5,
   "metadata": {},
   "outputs": [],
   "source": [
    "# __SOLUTION__ \n",
    "X_train_processed, X_test_processed = preprocess_data(X_train, X_test)"
   ]
  },
  {
   "cell_type": "markdown",
   "metadata": {},
   "source": [
    "### Apply your model to the train set"
   ]
  },
  {
   "cell_type": "code",
   "execution_count": null,
   "metadata": {},
   "outputs": [],
   "source": [
    "# Importing and initialize the linear regression model class\n"
   ]
  },
  {
   "cell_type": "code",
   "execution_count": 6,
   "metadata": {},
   "outputs": [],
   "source": [
    "# __SOLUTION__ \n",
    "from sklearn.linear_model import LinearRegression\n",
    "linreg = LinearRegression()"
   ]
  },
  {
   "cell_type": "code",
   "execution_count": null,
   "metadata": {},
   "outputs": [],
   "source": [
    "# Fit the model to train data\n"
   ]
  },
  {
   "cell_type": "code",
   "execution_count": 7,
   "metadata": {},
   "outputs": [
    {
     "data": {
      "text/plain": [
       "LinearRegression(copy_X=True, fit_intercept=True, n_jobs=None, normalize=False)"
      ]
     },
     "execution_count": 7,
     "metadata": {},
     "output_type": "execute_result"
    }
   ],
   "source": [
    "# __SOLUTION__ \n",
    "linreg.fit(X_train_processed, y_train)"
   ]
  },
  {
   "cell_type": "markdown",
   "metadata": {},
   "source": [
    "### Calculate predictions on training and test sets"
   ]
  },
  {
   "cell_type": "code",
   "execution_count": null,
   "metadata": {},
   "outputs": [],
   "source": [
    "# Calculate predictions on training and test sets\n"
   ]
  },
  {
   "cell_type": "code",
   "execution_count": 8,
   "metadata": {},
   "outputs": [],
   "source": [
    "# __SOLUTION__ \n",
    "y_hat_train = linreg.predict(X_train_processed)\n",
    "y_hat_test = linreg.predict(X_test_processed)"
   ]
  },
  {
   "cell_type": "markdown",
   "metadata": {},
   "source": [
    "### Calculate training and test residuals"
   ]
  },
  {
   "cell_type": "code",
   "execution_count": null,
   "metadata": {},
   "outputs": [],
   "source": [
    "# Calculate residuals\n"
   ]
  },
  {
   "cell_type": "code",
   "execution_count": 9,
   "metadata": {},
   "outputs": [],
   "source": [
    "# __SOLUTION__ \n",
    "train_residuals = y_hat_train - y_train\n",
    "test_residuals = y_hat_test - y_test"
   ]
  },
  {
   "cell_type": "markdown",
   "metadata": {},
   "source": [
    "### Calculate the Mean Squared Error (MSE)\n",
    "\n",
    "A good way to compare overall performance is to compare the mean squarred error for the predicted values on the training and test sets."
   ]
  },
  {
   "cell_type": "code",
   "execution_count": null,
   "metadata": {},
   "outputs": [],
   "source": [
    "# Import mean_squared_error from sklearn.metrics\n",
    "\n",
    "\n",
    "# Calculate training and test MSE\n"
   ]
  },
  {
   "cell_type": "code",
   "execution_count": 10,
   "metadata": {},
   "outputs": [
    {
     "name": "stdout",
     "output_type": "stream",
     "text": [
      "Train Mean Squarred Error: 21.53681560755561\n",
      "Test Mean Squarred Error: 22.4720352789069\n"
     ]
    }
   ],
   "source": [
    "# __SOLUTION__ \n",
    "# Import mean_squared_error from sklearn.metrics\n",
    "from sklearn.metrics import mean_squared_error\n",
    "\n",
    "# Calculate training and test MSE\n",
    "train_mse = mean_squared_error(y_train, y_hat_train)\n",
    "test_mse = mean_squared_error(y_test, y_hat_test)\n",
    "print('Train Mean Squarred Error:', train_mse)\n",
    "print('Test Mean Squarred Error:', test_mse)"
   ]
  },
  {
   "cell_type": "markdown",
   "metadata": {},
   "source": [
    "If your test error is substantially worse than the train error, this is a sign that the model doesn't generalize well to future cases. \n",
    "\n",
    "One simple way to demonstrate overfitting and underfitting is to alter the size of our train-test split. By default, scikit-learn allocates 25% of the data to the test set and 75% to the training set. Fitting a model on only 10% of the data is apt to lead to underfitting, while training a model on 99% of the data is apt to lead to overfitting.\n",
    "\n",
    "# Evaluate the effect of train-test split size\n",
    "\n",
    "Iterate over a range of train-test split sizes from .5 to .95. For each of these, generate a new train/test split sample. Fit a model to the training sample and calculate both the training error and the test error (mse) for each of these splits. Plot these two curves (train error vs. training size and test error vs. training size) on a graph. \n",
    "\n",
    "> NOTE: Make sure you preprocess the input data after splitting it into training and test sets. "
   ]
  },
  {
   "cell_type": "code",
   "execution_count": null,
   "metadata": {},
   "outputs": [],
   "source": [
    "import random\n",
    "random.seed(11)\n"
   ]
  },
  {
   "cell_type": "code",
   "execution_count": 11,
   "metadata": {},
   "outputs": [
    {
     "data": {
      "image/png": "[encoded data removed]",
      "text/plain": [
       "<Figure size 432x288 with 1 Axes>"
      ]
     },
     "metadata": {
      "needs_background": "light"
     },
     "output_type": "display_data"
    }
   ],
   "source": [
    "# __SOLUTION__ \n",
    "import random\n",
    "random.seed(11)\n",
    "\n",
    "train_err = []\n",
    "test_err = []\n",
    "t_sizes = list(range(5,100,5))\n",
    "for t_size in t_sizes:\n",
    "    X_train, X_test, y_train, y_test = train_test_split(X, y, test_size=t_size/100)\n",
    "    X_train_processed, X_test_processed = preprocess_data(X_train, X_test)\n",
    "    linreg.fit(X_train_processed, y_train)\n",
    "    y_hat_train = linreg.predict(X_train_processed)\n",
    "    y_hat_test = linreg.predict(X_test_processed)\n",
    "    train_err.append(mean_squared_error(y_train, y_hat_train))\n",
    "    test_err.append(mean_squared_error(y_test, y_hat_test))\n",
    "plt.scatter(t_sizes, train_err, label='Training Error')\n",
    "plt.scatter(t_sizes, test_err, label='Testing Error')\n",
    "plt.legend();"
   ]
  },
  {
   "cell_type": "markdown",
   "metadata": {},
   "source": [
    "# Evaluate the effect of train-test split size: Extension\n",
    "\n",
    "Repeat the previous example, but for each train-test split size, generate 100 iterations of models/errors and save the average train/test error. This will help account for any particularly good/bad models that might have resulted from poor/good splits in the data. "
   ]
  },
  {
   "cell_type": "code",
   "execution_count": null,
   "metadata": {},
   "outputs": [],
   "source": [
    "# ⏰ This cell may take several mintes to run\n",
    "random.seed(8)\n"
   ]
  },
  {
   "cell_type": "code",
   "execution_count": 12,
   "metadata": {},
   "outputs": [
    {
     "data": {
      "image/png": "[encoded data removed]",
      "text/plain": [
       "<Figure size 432x288 with 1 Axes>"
      ]
     },
     "metadata": {
      "needs_background": "light"
     },
     "output_type": "display_data"
    }
   ],
   "source": [
    "# __SOLUTION__ \n",
    "# ⏰ This cell may take several mintes to run\n",
    "random.seed(8)\n",
    "\n",
    "train_err = []\n",
    "test_err = []\n",
    "t_sizes = list(range(5,100,5))\n",
    "for t_size in t_sizes:\n",
    "    temp_train_err = []\n",
    "    temp_test_err = []\n",
    "    for i in range(100):\n",
    "        X_train, X_test, y_train, y_test = train_test_split(X, y, test_size=t_size/100)\n",
    "        X_train_processed, X_test_processed = preprocess_data(X_train, X_test)\n",
    "        linreg.fit(X_train_processed, y_train)\n",
    "        y_hat_train = linreg.predict(X_train_processed)\n",
    "        y_hat_test = linreg.predict(X_test_processed)\n",
    "        temp_train_err.append(mean_squared_error(y_train, y_hat_train))\n",
    "        temp_test_err.append(mean_squared_error(y_test, y_hat_test))\n",
    "    train_err.append(np.mean(temp_train_err))\n",
    "    test_err.append(np.mean(temp_test_err))\n",
    "plt.scatter(t_sizes, train_err, label='Training Error')\n",
    "plt.scatter(t_sizes, test_err, label='Testing Error')\n",
    "plt.legend();"
   ]
  },
  {
   "cell_type": "markdown",
   "metadata": {},
   "source": [
    "What's happening here? Evaluate your result! \n",
    "\n",
    "##  Summary  \n",
    "\n",
    "Congratulations! You now practiced your knowledge of MSE and used your train-test split skills to validate your model."
   ]
  }
 ],
 "metadata": {
  "kernelspec": {
   "display_name": "Python 3",
   "language": "python",
   "name": "python3"
  },
  "language_info": {
   "codemirror_mode": {
    "name": "ipython",
    "version": 3
   },
   "file_extension": ".py",
   "mimetype": "text/x-python",
   "name": "python",
   "nbconvert_exporter": "python",
   "pygments_lexer": "ipython3",
   "version": "3.7.3"
  }
 },
 "nbformat": 4,
 "nbformat_minor": 2
}
